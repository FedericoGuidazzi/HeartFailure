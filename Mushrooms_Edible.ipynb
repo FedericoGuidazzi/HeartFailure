{
 "cells": [
  {
   "cell_type": "code",
   "execution_count": 1,
   "id": "7b154750",
   "metadata": {},
   "outputs": [],
   "source": [
    "import numpy as np\n",
    "import pandas as pd\n",
    "import matplotlib.pyplot as plt\n",
    "import random\n",
    "from collections import defaultdict\n",
    "from sklearn.model_selection import train_test_split\n",
    "from sklearn.pipeline import Pipeline\n",
    "from sklearn.preprocessing import StandardScaler\n",
    "from sklearn.linear_model import LogisticRegression, Perceptron\n",
    "from sklearn.preprocessing import LabelEncoder\n",
    "import seaborn as sn\n",
    "from sklearn.feature_extraction.text import TfidfVectorizer\n",
    "from sklearn.model_selection import GridSearchCV\n",
    "from sklearn.ensemble import RandomForestClassifier\n",
    "from sklearn.metrics import confusion_matrix\n",
    "from sklearn.metrics import precision_score, recall_score, f1_score\n",
    "from sklearn.svm import SVC\n",
    "import random\n",
    "import warnings\n",
    "warnings.filterwarnings(\"ignore\")\n",
    "%matplotlib inline"
   ]
  },
  {
   "cell_type": "markdown",
   "id": "fce138d1",
   "metadata": {},
   "source": [
    "# Descrizione del problema\n",
    "Utilizzando un dataset contenente tutte le informazioni riguardanti a un'insieme di funghi, si vuole classificare i dati così da individuare quali sono le caratteristiche che lo rendono edibile.\n",
    "\n",
    "Iniziamo con il caricamento dei dati in un dataset."
   ]
  },
  {
   "cell_type": "code",
   "execution_count": 2,
   "id": "a192daa3",
   "metadata": {},
   "outputs": [],
   "source": [
    "dataset = pd.read_csv(\"mushrooms.csv\")"
   ]
  },
  {
   "cell_type": "code",
   "execution_count": 3,
   "id": "b80bff72",
   "metadata": {},
   "outputs": [
    {
     "data": {
      "text/plain": [
       "(8124, 23)"
      ]
     },
     "execution_count": 3,
     "metadata": {},
     "output_type": "execute_result"
    }
   ],
   "source": [
    "dataset.shape"
   ]
  },
  {
   "cell_type": "code",
   "execution_count": 4,
   "id": "9f0f0fe4",
   "metadata": {},
   "outputs": [
    {
     "data": {
      "text/html": [
       "<div>\n",
       "<style scoped>\n",
       "    .dataframe tbody tr th:only-of-type {\n",
       "        vertical-align: middle;\n",
       "    }\n",
       "\n",
       "    .dataframe tbody tr th {\n",
       "        vertical-align: top;\n",
       "    }\n",
       "\n",
       "    .dataframe thead th {\n",
       "        text-align: right;\n",
       "    }\n",
       "</style>\n",
       "<table border=\"1\" class=\"dataframe\">\n",
       "  <thead>\n",
       "    <tr style=\"text-align: right;\">\n",
       "      <th></th>\n",
       "      <th>class</th>\n",
       "      <th>cap-shape</th>\n",
       "      <th>cap-surface</th>\n",
       "      <th>cap-color</th>\n",
       "      <th>bruises</th>\n",
       "      <th>odor</th>\n",
       "      <th>gill-attachment</th>\n",
       "      <th>gill-spacing</th>\n",
       "      <th>gill-size</th>\n",
       "      <th>gill-color</th>\n",
       "      <th>...</th>\n",
       "      <th>stalk-surface-below-ring</th>\n",
       "      <th>stalk-color-above-ring</th>\n",
       "      <th>stalk-color-below-ring</th>\n",
       "      <th>veil-type</th>\n",
       "      <th>veil-color</th>\n",
       "      <th>ring-number</th>\n",
       "      <th>ring-type</th>\n",
       "      <th>spore-print-color</th>\n",
       "      <th>population</th>\n",
       "      <th>habitat</th>\n",
       "    </tr>\n",
       "  </thead>\n",
       "  <tbody>\n",
       "    <tr>\n",
       "      <th>0</th>\n",
       "      <td>p</td>\n",
       "      <td>x</td>\n",
       "      <td>s</td>\n",
       "      <td>n</td>\n",
       "      <td>t</td>\n",
       "      <td>p</td>\n",
       "      <td>f</td>\n",
       "      <td>c</td>\n",
       "      <td>n</td>\n",
       "      <td>k</td>\n",
       "      <td>...</td>\n",
       "      <td>s</td>\n",
       "      <td>w</td>\n",
       "      <td>w</td>\n",
       "      <td>p</td>\n",
       "      <td>w</td>\n",
       "      <td>o</td>\n",
       "      <td>p</td>\n",
       "      <td>k</td>\n",
       "      <td>s</td>\n",
       "      <td>u</td>\n",
       "    </tr>\n",
       "    <tr>\n",
       "      <th>1</th>\n",
       "      <td>e</td>\n",
       "      <td>x</td>\n",
       "      <td>s</td>\n",
       "      <td>y</td>\n",
       "      <td>t</td>\n",
       "      <td>a</td>\n",
       "      <td>f</td>\n",
       "      <td>c</td>\n",
       "      <td>b</td>\n",
       "      <td>k</td>\n",
       "      <td>...</td>\n",
       "      <td>s</td>\n",
       "      <td>w</td>\n",
       "      <td>w</td>\n",
       "      <td>p</td>\n",
       "      <td>w</td>\n",
       "      <td>o</td>\n",
       "      <td>p</td>\n",
       "      <td>n</td>\n",
       "      <td>n</td>\n",
       "      <td>g</td>\n",
       "    </tr>\n",
       "    <tr>\n",
       "      <th>2</th>\n",
       "      <td>e</td>\n",
       "      <td>b</td>\n",
       "      <td>s</td>\n",
       "      <td>w</td>\n",
       "      <td>t</td>\n",
       "      <td>l</td>\n",
       "      <td>f</td>\n",
       "      <td>c</td>\n",
       "      <td>b</td>\n",
       "      <td>n</td>\n",
       "      <td>...</td>\n",
       "      <td>s</td>\n",
       "      <td>w</td>\n",
       "      <td>w</td>\n",
       "      <td>p</td>\n",
       "      <td>w</td>\n",
       "      <td>o</td>\n",
       "      <td>p</td>\n",
       "      <td>n</td>\n",
       "      <td>n</td>\n",
       "      <td>m</td>\n",
       "    </tr>\n",
       "    <tr>\n",
       "      <th>3</th>\n",
       "      <td>p</td>\n",
       "      <td>x</td>\n",
       "      <td>y</td>\n",
       "      <td>w</td>\n",
       "      <td>t</td>\n",
       "      <td>p</td>\n",
       "      <td>f</td>\n",
       "      <td>c</td>\n",
       "      <td>n</td>\n",
       "      <td>n</td>\n",
       "      <td>...</td>\n",
       "      <td>s</td>\n",
       "      <td>w</td>\n",
       "      <td>w</td>\n",
       "      <td>p</td>\n",
       "      <td>w</td>\n",
       "      <td>o</td>\n",
       "      <td>p</td>\n",
       "      <td>k</td>\n",
       "      <td>s</td>\n",
       "      <td>u</td>\n",
       "    </tr>\n",
       "    <tr>\n",
       "      <th>4</th>\n",
       "      <td>e</td>\n",
       "      <td>x</td>\n",
       "      <td>s</td>\n",
       "      <td>g</td>\n",
       "      <td>f</td>\n",
       "      <td>n</td>\n",
       "      <td>f</td>\n",
       "      <td>w</td>\n",
       "      <td>b</td>\n",
       "      <td>k</td>\n",
       "      <td>...</td>\n",
       "      <td>s</td>\n",
       "      <td>w</td>\n",
       "      <td>w</td>\n",
       "      <td>p</td>\n",
       "      <td>w</td>\n",
       "      <td>o</td>\n",
       "      <td>e</td>\n",
       "      <td>n</td>\n",
       "      <td>a</td>\n",
       "      <td>g</td>\n",
       "    </tr>\n",
       "  </tbody>\n",
       "</table>\n",
       "<p>5 rows × 23 columns</p>\n",
       "</div>"
      ],
      "text/plain": [
       "  class cap-shape cap-surface cap-color bruises odor gill-attachment  \\\n",
       "0     p         x           s         n       t    p               f   \n",
       "1     e         x           s         y       t    a               f   \n",
       "2     e         b           s         w       t    l               f   \n",
       "3     p         x           y         w       t    p               f   \n",
       "4     e         x           s         g       f    n               f   \n",
       "\n",
       "  gill-spacing gill-size gill-color  ... stalk-surface-below-ring  \\\n",
       "0            c         n          k  ...                        s   \n",
       "1            c         b          k  ...                        s   \n",
       "2            c         b          n  ...                        s   \n",
       "3            c         n          n  ...                        s   \n",
       "4            w         b          k  ...                        s   \n",
       "\n",
       "  stalk-color-above-ring stalk-color-below-ring veil-type veil-color  \\\n",
       "0                      w                      w         p          w   \n",
       "1                      w                      w         p          w   \n",
       "2                      w                      w         p          w   \n",
       "3                      w                      w         p          w   \n",
       "4                      w                      w         p          w   \n",
       "\n",
       "  ring-number ring-type spore-print-color population habitat  \n",
       "0           o         p                 k          s       u  \n",
       "1           o         p                 n          n       g  \n",
       "2           o         p                 n          n       m  \n",
       "3           o         p                 k          s       u  \n",
       "4           o         e                 n          a       g  \n",
       "\n",
       "[5 rows x 23 columns]"
      ]
     },
     "execution_count": 4,
     "metadata": {},
     "output_type": "execute_result"
    }
   ],
   "source": [
    "dataset.head()"
   ]
  },
  {
   "cell_type": "code",
   "execution_count": 5,
   "id": "3e3d26c6",
   "metadata": {},
   "outputs": [
    {
     "data": {
      "text/html": [
       "<div>\n",
       "<style scoped>\n",
       "    .dataframe tbody tr th:only-of-type {\n",
       "        vertical-align: middle;\n",
       "    }\n",
       "\n",
       "    .dataframe tbody tr th {\n",
       "        vertical-align: top;\n",
       "    }\n",
       "\n",
       "    .dataframe thead th {\n",
       "        text-align: right;\n",
       "    }\n",
       "</style>\n",
       "<table border=\"1\" class=\"dataframe\">\n",
       "  <thead>\n",
       "    <tr style=\"text-align: right;\">\n",
       "      <th></th>\n",
       "      <th>class</th>\n",
       "      <th>cap-shape</th>\n",
       "      <th>cap-surface</th>\n",
       "      <th>cap-color</th>\n",
       "      <th>bruises</th>\n",
       "      <th>odor</th>\n",
       "      <th>gill-attachment</th>\n",
       "      <th>gill-spacing</th>\n",
       "      <th>gill-size</th>\n",
       "      <th>gill-color</th>\n",
       "      <th>...</th>\n",
       "      <th>stalk-surface-below-ring</th>\n",
       "      <th>stalk-color-above-ring</th>\n",
       "      <th>stalk-color-below-ring</th>\n",
       "      <th>veil-type</th>\n",
       "      <th>veil-color</th>\n",
       "      <th>ring-number</th>\n",
       "      <th>ring-type</th>\n",
       "      <th>spore-print-color</th>\n",
       "      <th>population</th>\n",
       "      <th>habitat</th>\n",
       "    </tr>\n",
       "  </thead>\n",
       "  <tbody>\n",
       "    <tr>\n",
       "      <th>8119</th>\n",
       "      <td>e</td>\n",
       "      <td>k</td>\n",
       "      <td>s</td>\n",
       "      <td>n</td>\n",
       "      <td>f</td>\n",
       "      <td>n</td>\n",
       "      <td>a</td>\n",
       "      <td>c</td>\n",
       "      <td>b</td>\n",
       "      <td>y</td>\n",
       "      <td>...</td>\n",
       "      <td>s</td>\n",
       "      <td>o</td>\n",
       "      <td>o</td>\n",
       "      <td>p</td>\n",
       "      <td>o</td>\n",
       "      <td>o</td>\n",
       "      <td>p</td>\n",
       "      <td>b</td>\n",
       "      <td>c</td>\n",
       "      <td>l</td>\n",
       "    </tr>\n",
       "    <tr>\n",
       "      <th>8120</th>\n",
       "      <td>e</td>\n",
       "      <td>x</td>\n",
       "      <td>s</td>\n",
       "      <td>n</td>\n",
       "      <td>f</td>\n",
       "      <td>n</td>\n",
       "      <td>a</td>\n",
       "      <td>c</td>\n",
       "      <td>b</td>\n",
       "      <td>y</td>\n",
       "      <td>...</td>\n",
       "      <td>s</td>\n",
       "      <td>o</td>\n",
       "      <td>o</td>\n",
       "      <td>p</td>\n",
       "      <td>n</td>\n",
       "      <td>o</td>\n",
       "      <td>p</td>\n",
       "      <td>b</td>\n",
       "      <td>v</td>\n",
       "      <td>l</td>\n",
       "    </tr>\n",
       "    <tr>\n",
       "      <th>8121</th>\n",
       "      <td>e</td>\n",
       "      <td>f</td>\n",
       "      <td>s</td>\n",
       "      <td>n</td>\n",
       "      <td>f</td>\n",
       "      <td>n</td>\n",
       "      <td>a</td>\n",
       "      <td>c</td>\n",
       "      <td>b</td>\n",
       "      <td>n</td>\n",
       "      <td>...</td>\n",
       "      <td>s</td>\n",
       "      <td>o</td>\n",
       "      <td>o</td>\n",
       "      <td>p</td>\n",
       "      <td>o</td>\n",
       "      <td>o</td>\n",
       "      <td>p</td>\n",
       "      <td>b</td>\n",
       "      <td>c</td>\n",
       "      <td>l</td>\n",
       "    </tr>\n",
       "    <tr>\n",
       "      <th>8122</th>\n",
       "      <td>p</td>\n",
       "      <td>k</td>\n",
       "      <td>y</td>\n",
       "      <td>n</td>\n",
       "      <td>f</td>\n",
       "      <td>y</td>\n",
       "      <td>f</td>\n",
       "      <td>c</td>\n",
       "      <td>n</td>\n",
       "      <td>b</td>\n",
       "      <td>...</td>\n",
       "      <td>k</td>\n",
       "      <td>w</td>\n",
       "      <td>w</td>\n",
       "      <td>p</td>\n",
       "      <td>w</td>\n",
       "      <td>o</td>\n",
       "      <td>e</td>\n",
       "      <td>w</td>\n",
       "      <td>v</td>\n",
       "      <td>l</td>\n",
       "    </tr>\n",
       "    <tr>\n",
       "      <th>8123</th>\n",
       "      <td>e</td>\n",
       "      <td>x</td>\n",
       "      <td>s</td>\n",
       "      <td>n</td>\n",
       "      <td>f</td>\n",
       "      <td>n</td>\n",
       "      <td>a</td>\n",
       "      <td>c</td>\n",
       "      <td>b</td>\n",
       "      <td>y</td>\n",
       "      <td>...</td>\n",
       "      <td>s</td>\n",
       "      <td>o</td>\n",
       "      <td>o</td>\n",
       "      <td>p</td>\n",
       "      <td>o</td>\n",
       "      <td>o</td>\n",
       "      <td>p</td>\n",
       "      <td>o</td>\n",
       "      <td>c</td>\n",
       "      <td>l</td>\n",
       "    </tr>\n",
       "  </tbody>\n",
       "</table>\n",
       "<p>5 rows × 23 columns</p>\n",
       "</div>"
      ],
      "text/plain": [
       "     class cap-shape cap-surface cap-color bruises odor gill-attachment  \\\n",
       "8119     e         k           s         n       f    n               a   \n",
       "8120     e         x           s         n       f    n               a   \n",
       "8121     e         f           s         n       f    n               a   \n",
       "8122     p         k           y         n       f    y               f   \n",
       "8123     e         x           s         n       f    n               a   \n",
       "\n",
       "     gill-spacing gill-size gill-color  ... stalk-surface-below-ring  \\\n",
       "8119            c         b          y  ...                        s   \n",
       "8120            c         b          y  ...                        s   \n",
       "8121            c         b          n  ...                        s   \n",
       "8122            c         n          b  ...                        k   \n",
       "8123            c         b          y  ...                        s   \n",
       "\n",
       "     stalk-color-above-ring stalk-color-below-ring veil-type veil-color  \\\n",
       "8119                      o                      o         p          o   \n",
       "8120                      o                      o         p          n   \n",
       "8121                      o                      o         p          o   \n",
       "8122                      w                      w         p          w   \n",
       "8123                      o                      o         p          o   \n",
       "\n",
       "     ring-number ring-type spore-print-color population habitat  \n",
       "8119           o         p                 b          c       l  \n",
       "8120           o         p                 b          v       l  \n",
       "8121           o         p                 b          c       l  \n",
       "8122           o         e                 w          v       l  \n",
       "8123           o         p                 o          c       l  \n",
       "\n",
       "[5 rows x 23 columns]"
      ]
     },
     "execution_count": 5,
     "metadata": {},
     "output_type": "execute_result"
    }
   ],
   "source": [
    "dataset.tail()"
   ]
  },
  {
   "cell_type": "markdown",
   "id": "d156cf87",
   "metadata": {},
   "source": [
    "# Analisi del Dataset\n",
    "\n",
    "Nel dataset sono presenti 23 colonne:\n",
    "\n",
    "- class: è la variabile da predirre, può valere e in caso il fungo sia edibile e p in caso non lo sia.\n",
    "\n",
    "- cap-shape: è la forma del cappello del fungo, bell=b, conical=c, convex=x, flat=f, knobbed=k, sunken=s.\n",
    "\n",
    "- cap-surface: è la superfice del cappello del fungo, fibrous=f, grooves=g, scaly=y, smooth=s.\n",
    "\n",
    "- cap-color: è il colore del cappello del fungo, brown=n, buff=b,  cinnamon=c, gray=g, green=r, pink=p, purple=u, red=e, white=w, yellow=y.\n",
    "\n",
    "- bruises: variabile binaria che indica se sono presenti delle macchie nel fungo, bruises=t, no=f.\n",
    "\n",
    "- odor: è il profumo che emana il fungo, almond=a, anise=l, creosote=c, fishy=y, foul=f, musty=m, none=n, pungent=p, spicy=s.\n",
    "\n",
    "- gill-attachment: indica come le lamelle sono attaccate al fungo, attached=a, descending=d, free=f, notched=n.\n",
    "\n",
    "- gill-spacing: indica quanto spazio è presente tra le lamelle, close=c, crowded=w, distant=d.\n",
    "\n",
    "- gill-size: indica quanto le lamelle sono grandi, broad=b, narrow=n.\n",
    "\n",
    "- gill-color: indica il colore delle lamelle, black=k, brown=n, buff=b, chocolate=h, gray=g,  green=r, orange=o, pink=p, purple=u, red=e, white=w, yellow=y.\n",
    "\n",
    "- stalk-shape: indica che forma ha il gambo del fungo, enlarging=e, tapering=t.\n",
    "\n",
    "- stalk-root: indica che forma ha la base del gambo, bulbous=b, club=c, cup=u, equal=e, rhizomorphs=z, rooted=r, missing=?.\n",
    "\n",
    "- stalk-surface-above-ring: indica come è fatto il gambo dopo l'anello, fibrous=f, scaly=y, silky=k, smooth=s.\n",
    "\n",
    "- stalk-surface-below-ring: indica come è fatto il gambo prima dell'anello, fibrous=f, scaly=y, silky=k, smooth=s.\n",
    "\n",
    "- stalk-color-above-ring: indica il colore del gambo dopo l'anello, brown=n, buff=b, cinnamon=c, gray=g, orange=o, pink=p, red=e, white=w, yellow=y.\n",
    "\n",
    "- stalk-color-below-ring: indica il colore del gambo prima dell'anello, brown=n, buff=b, cinnamon=c, gray=g, orange=o, pink=p, red=e, white=w, yellow=y.\n",
    "\n",
    "- veil-type: tipologia di velo, partial=p, universal=u.\n",
    "\n",
    "- veil-color: colore del velo, brown=n, orange=o, white=w, yellow=y.\n",
    "\n",
    "- ring-number: numero di anelli, none=n, one=o, two=t.\n",
    "\n",
    "- ring-type: tipologia dell'anello, cobwebby=c, evanescent=e, flaring=f, large=l, none=n, pendant=p, sheathing=s, zone=z.\n",
    "\n",
    "- spore-print-color: colore delle spore, black=k, brown=n, buff=b, chocolate=h, green=r, orange=o, purple=u, white=w, yellow=y.\n",
    "\n",
    "- population: popolazione del fungo, abundant=a, clustered=c, numerous=n, scattered=s, several=v, solitary=y.\n",
    "\n",
    "- habitat: habitat del fungo, grasses=g, leaves=l, meadows=m, paths=p, urban=u, waste=w, woods=d."
   ]
  },
  {
   "cell_type": "markdown",
   "id": "68ef15ad",
   "metadata": {},
   "source": [
    "# Individuazione della tipologia delle variabili\n",
    "\n",
    "Individuo e stampo le variabili categoriche e quelle numeriche."
   ]
  },
  {
   "cell_type": "code",
   "execution_count": 6,
   "id": "215e939f",
   "metadata": {},
   "outputs": [
    {
     "name": "stdout",
     "output_type": "stream",
     "text": [
      "Variabili Categoriche:\n",
      "['class', 'cap-shape', 'cap-surface', 'cap-color', 'bruises', 'odor', 'gill-attachment', 'gill-spacing', 'gill-size', 'gill-color', 'stalk-shape', 'stalk-root', 'stalk-surface-above-ring', 'stalk-surface-below-ring', 'stalk-color-above-ring', 'stalk-color-below-ring', 'veil-type', 'veil-color', 'ring-number', 'ring-type', 'spore-print-color', 'population', 'habitat']\n",
      "Le variabili categoriche sono:  23\n"
     ]
    }
   ],
   "source": [
    "cat = (dataset.dtypes == \"object\")\n",
    "object_cols = list(cat[cat].index)\n",
    "\n",
    "print(\"Variabili Categoriche:\")\n",
    "print(object_cols)\n",
    "print(\"Le variabili categoriche sono: \", len(object_cols))"
   ]
  },
  {
   "cell_type": "code",
   "execution_count": 7,
   "id": "a15edd5c",
   "metadata": {},
   "outputs": [
    {
     "name": "stdout",
     "output_type": "stream",
     "text": [
      "Variabili Numeriche:\n",
      "[]\n",
      "Le variabili numeriche sono:  0\n"
     ]
    }
   ],
   "source": [
    "num = (dataset.dtypes == \"int64\")\n",
    "num_cols = list(num[num].index)\n",
    "\n",
    "print(\"Variabili Numeriche:\")\n",
    "print(num_cols)\n",
    "print(\"Le variabili numeriche sono: \", len(num_cols))"
   ]
  },
  {
   "cell_type": "markdown",
   "id": "e26aee0e",
   "metadata": {},
   "source": [
    "Come era possibile notare dall'analisi del Dataset, questo è composto solo da variabili categoriche."
   ]
  },
  {
   "cell_type": "code",
   "execution_count": 8,
   "id": "5bf1ae33",
   "metadata": {},
   "outputs": [
    {
     "name": "stdout",
     "output_type": "stream",
     "text": [
      "<class 'pandas.core.frame.DataFrame'>\n",
      "RangeIndex: 8124 entries, 0 to 8123\n",
      "Data columns (total 23 columns):\n",
      " #   Column                    Non-Null Count  Dtype \n",
      "---  ------                    --------------  ----- \n",
      " 0   class                     8124 non-null   object\n",
      " 1   cap-shape                 8124 non-null   object\n",
      " 2   cap-surface               8124 non-null   object\n",
      " 3   cap-color                 8124 non-null   object\n",
      " 4   bruises                   8124 non-null   object\n",
      " 5   odor                      8124 non-null   object\n",
      " 6   gill-attachment           8124 non-null   object\n",
      " 7   gill-spacing              8124 non-null   object\n",
      " 8   gill-size                 8124 non-null   object\n",
      " 9   gill-color                8124 non-null   object\n",
      " 10  stalk-shape               8124 non-null   object\n",
      " 11  stalk-root                8124 non-null   object\n",
      " 12  stalk-surface-above-ring  8124 non-null   object\n",
      " 13  stalk-surface-below-ring  8124 non-null   object\n",
      " 14  stalk-color-above-ring    8124 non-null   object\n",
      " 15  stalk-color-below-ring    8124 non-null   object\n",
      " 16  veil-type                 8124 non-null   object\n",
      " 17  veil-color                8124 non-null   object\n",
      " 18  ring-number               8124 non-null   object\n",
      " 19  ring-type                 8124 non-null   object\n",
      " 20  spore-print-color         8124 non-null   object\n",
      " 21  population                8124 non-null   object\n",
      " 22  habitat                   8124 non-null   object\n",
      "dtypes: object(23)\n",
      "memory usage: 1.4+ MB\n"
     ]
    }
   ],
   "source": [
    "dataset.info()"
   ]
  },
  {
   "cell_type": "markdown",
   "id": "9a4ae50b",
   "metadata": {},
   "source": [
    "Attraverso il comando info possiamo inoltre notare che non sono presenti valori nulli, per cui non c'è bisogno di gestirli."
   ]
  },
  {
   "cell_type": "markdown",
   "id": "33548628",
   "metadata": {},
   "source": [
    "# Data Preprocessing"
   ]
  },
  {
   "cell_type": "markdown",
   "id": "18d5d638",
   "metadata": {},
   "source": [
    "Da una attenta osservazione possiamo notare che la colonna \"veil-type\" vale sempre p, per cui possiamo rimuoverla."
   ]
  },
  {
   "cell_type": "code",
   "execution_count": 9,
   "id": "9ea7d0c8",
   "metadata": {},
   "outputs": [
    {
     "data": {
      "text/plain": [
       "array(['p'], dtype=object)"
      ]
     },
     "execution_count": 9,
     "metadata": {},
     "output_type": "execute_result"
    }
   ],
   "source": [
    "dataset[\"veil-type\"].unique()"
   ]
  },
  {
   "cell_type": "code",
   "execution_count": 10,
   "id": "746ff0e1",
   "metadata": {},
   "outputs": [],
   "source": [
    "dataset.drop('veil-type', inplace=True, axis=1)"
   ]
  },
  {
   "cell_type": "code",
   "execution_count": 11,
   "id": "e5f900f7",
   "metadata": {},
   "outputs": [
    {
     "data": {
      "text/html": [
       "<div>\n",
       "<style scoped>\n",
       "    .dataframe tbody tr th:only-of-type {\n",
       "        vertical-align: middle;\n",
       "    }\n",
       "\n",
       "    .dataframe tbody tr th {\n",
       "        vertical-align: top;\n",
       "    }\n",
       "\n",
       "    .dataframe thead th {\n",
       "        text-align: right;\n",
       "    }\n",
       "</style>\n",
       "<table border=\"1\" class=\"dataframe\">\n",
       "  <thead>\n",
       "    <tr style=\"text-align: right;\">\n",
       "      <th></th>\n",
       "      <th>class</th>\n",
       "      <th>cap-shape</th>\n",
       "      <th>cap-surface</th>\n",
       "      <th>cap-color</th>\n",
       "      <th>bruises</th>\n",
       "      <th>odor</th>\n",
       "      <th>gill-attachment</th>\n",
       "      <th>gill-spacing</th>\n",
       "      <th>gill-size</th>\n",
       "      <th>gill-color</th>\n",
       "      <th>...</th>\n",
       "      <th>stalk-surface-above-ring</th>\n",
       "      <th>stalk-surface-below-ring</th>\n",
       "      <th>stalk-color-above-ring</th>\n",
       "      <th>stalk-color-below-ring</th>\n",
       "      <th>veil-color</th>\n",
       "      <th>ring-number</th>\n",
       "      <th>ring-type</th>\n",
       "      <th>spore-print-color</th>\n",
       "      <th>population</th>\n",
       "      <th>habitat</th>\n",
       "    </tr>\n",
       "  </thead>\n",
       "  <tbody>\n",
       "    <tr>\n",
       "      <th>0</th>\n",
       "      <td>p</td>\n",
       "      <td>x</td>\n",
       "      <td>s</td>\n",
       "      <td>n</td>\n",
       "      <td>t</td>\n",
       "      <td>p</td>\n",
       "      <td>f</td>\n",
       "      <td>c</td>\n",
       "      <td>n</td>\n",
       "      <td>k</td>\n",
       "      <td>...</td>\n",
       "      <td>s</td>\n",
       "      <td>s</td>\n",
       "      <td>w</td>\n",
       "      <td>w</td>\n",
       "      <td>w</td>\n",
       "      <td>o</td>\n",
       "      <td>p</td>\n",
       "      <td>k</td>\n",
       "      <td>s</td>\n",
       "      <td>u</td>\n",
       "    </tr>\n",
       "    <tr>\n",
       "      <th>1</th>\n",
       "      <td>e</td>\n",
       "      <td>x</td>\n",
       "      <td>s</td>\n",
       "      <td>y</td>\n",
       "      <td>t</td>\n",
       "      <td>a</td>\n",
       "      <td>f</td>\n",
       "      <td>c</td>\n",
       "      <td>b</td>\n",
       "      <td>k</td>\n",
       "      <td>...</td>\n",
       "      <td>s</td>\n",
       "      <td>s</td>\n",
       "      <td>w</td>\n",
       "      <td>w</td>\n",
       "      <td>w</td>\n",
       "      <td>o</td>\n",
       "      <td>p</td>\n",
       "      <td>n</td>\n",
       "      <td>n</td>\n",
       "      <td>g</td>\n",
       "    </tr>\n",
       "    <tr>\n",
       "      <th>2</th>\n",
       "      <td>e</td>\n",
       "      <td>b</td>\n",
       "      <td>s</td>\n",
       "      <td>w</td>\n",
       "      <td>t</td>\n",
       "      <td>l</td>\n",
       "      <td>f</td>\n",
       "      <td>c</td>\n",
       "      <td>b</td>\n",
       "      <td>n</td>\n",
       "      <td>...</td>\n",
       "      <td>s</td>\n",
       "      <td>s</td>\n",
       "      <td>w</td>\n",
       "      <td>w</td>\n",
       "      <td>w</td>\n",
       "      <td>o</td>\n",
       "      <td>p</td>\n",
       "      <td>n</td>\n",
       "      <td>n</td>\n",
       "      <td>m</td>\n",
       "    </tr>\n",
       "    <tr>\n",
       "      <th>3</th>\n",
       "      <td>p</td>\n",
       "      <td>x</td>\n",
       "      <td>y</td>\n",
       "      <td>w</td>\n",
       "      <td>t</td>\n",
       "      <td>p</td>\n",
       "      <td>f</td>\n",
       "      <td>c</td>\n",
       "      <td>n</td>\n",
       "      <td>n</td>\n",
       "      <td>...</td>\n",
       "      <td>s</td>\n",
       "      <td>s</td>\n",
       "      <td>w</td>\n",
       "      <td>w</td>\n",
       "      <td>w</td>\n",
       "      <td>o</td>\n",
       "      <td>p</td>\n",
       "      <td>k</td>\n",
       "      <td>s</td>\n",
       "      <td>u</td>\n",
       "    </tr>\n",
       "    <tr>\n",
       "      <th>4</th>\n",
       "      <td>e</td>\n",
       "      <td>x</td>\n",
       "      <td>s</td>\n",
       "      <td>g</td>\n",
       "      <td>f</td>\n",
       "      <td>n</td>\n",
       "      <td>f</td>\n",
       "      <td>w</td>\n",
       "      <td>b</td>\n",
       "      <td>k</td>\n",
       "      <td>...</td>\n",
       "      <td>s</td>\n",
       "      <td>s</td>\n",
       "      <td>w</td>\n",
       "      <td>w</td>\n",
       "      <td>w</td>\n",
       "      <td>o</td>\n",
       "      <td>e</td>\n",
       "      <td>n</td>\n",
       "      <td>a</td>\n",
       "      <td>g</td>\n",
       "    </tr>\n",
       "  </tbody>\n",
       "</table>\n",
       "<p>5 rows × 22 columns</p>\n",
       "</div>"
      ],
      "text/plain": [
       "  class cap-shape cap-surface cap-color bruises odor gill-attachment  \\\n",
       "0     p         x           s         n       t    p               f   \n",
       "1     e         x           s         y       t    a               f   \n",
       "2     e         b           s         w       t    l               f   \n",
       "3     p         x           y         w       t    p               f   \n",
       "4     e         x           s         g       f    n               f   \n",
       "\n",
       "  gill-spacing gill-size gill-color  ... stalk-surface-above-ring  \\\n",
       "0            c         n          k  ...                        s   \n",
       "1            c         b          k  ...                        s   \n",
       "2            c         b          n  ...                        s   \n",
       "3            c         n          n  ...                        s   \n",
       "4            w         b          k  ...                        s   \n",
       "\n",
       "  stalk-surface-below-ring stalk-color-above-ring stalk-color-below-ring  \\\n",
       "0                        s                      w                      w   \n",
       "1                        s                      w                      w   \n",
       "2                        s                      w                      w   \n",
       "3                        s                      w                      w   \n",
       "4                        s                      w                      w   \n",
       "\n",
       "  veil-color ring-number ring-type spore-print-color population habitat  \n",
       "0          w           o         p                 k          s       u  \n",
       "1          w           o         p                 n          n       g  \n",
       "2          w           o         p                 n          n       m  \n",
       "3          w           o         p                 k          s       u  \n",
       "4          w           o         e                 n          a       g  \n",
       "\n",
       "[5 rows x 22 columns]"
      ]
     },
     "execution_count": 11,
     "metadata": {},
     "output_type": "execute_result"
    }
   ],
   "source": [
    "dataset.head()"
   ]
  },
  {
   "cell_type": "code",
   "execution_count": 12,
   "id": "90be09d2",
   "metadata": {},
   "outputs": [
    {
     "data": {
      "text/html": [
       "<div>\n",
       "<style scoped>\n",
       "    .dataframe tbody tr th:only-of-type {\n",
       "        vertical-align: middle;\n",
       "    }\n",
       "\n",
       "    .dataframe tbody tr th {\n",
       "        vertical-align: top;\n",
       "    }\n",
       "\n",
       "    .dataframe thead th {\n",
       "        text-align: right;\n",
       "    }\n",
       "</style>\n",
       "<table border=\"1\" class=\"dataframe\">\n",
       "  <thead>\n",
       "    <tr style=\"text-align: right;\">\n",
       "      <th></th>\n",
       "      <th>class</th>\n",
       "      <th>cap-shape</th>\n",
       "      <th>cap-surface</th>\n",
       "      <th>cap-color</th>\n",
       "      <th>bruises</th>\n",
       "      <th>odor</th>\n",
       "      <th>gill-attachment</th>\n",
       "      <th>gill-spacing</th>\n",
       "      <th>gill-size</th>\n",
       "      <th>gill-color</th>\n",
       "      <th>...</th>\n",
       "      <th>stalk-surface-above-ring</th>\n",
       "      <th>stalk-surface-below-ring</th>\n",
       "      <th>stalk-color-above-ring</th>\n",
       "      <th>stalk-color-below-ring</th>\n",
       "      <th>veil-color</th>\n",
       "      <th>ring-number</th>\n",
       "      <th>ring-type</th>\n",
       "      <th>spore-print-color</th>\n",
       "      <th>population</th>\n",
       "      <th>habitat</th>\n",
       "    </tr>\n",
       "  </thead>\n",
       "  <tbody>\n",
       "    <tr>\n",
       "      <th>8119</th>\n",
       "      <td>e</td>\n",
       "      <td>k</td>\n",
       "      <td>s</td>\n",
       "      <td>n</td>\n",
       "      <td>f</td>\n",
       "      <td>n</td>\n",
       "      <td>a</td>\n",
       "      <td>c</td>\n",
       "      <td>b</td>\n",
       "      <td>y</td>\n",
       "      <td>...</td>\n",
       "      <td>s</td>\n",
       "      <td>s</td>\n",
       "      <td>o</td>\n",
       "      <td>o</td>\n",
       "      <td>o</td>\n",
       "      <td>o</td>\n",
       "      <td>p</td>\n",
       "      <td>b</td>\n",
       "      <td>c</td>\n",
       "      <td>l</td>\n",
       "    </tr>\n",
       "    <tr>\n",
       "      <th>8120</th>\n",
       "      <td>e</td>\n",
       "      <td>x</td>\n",
       "      <td>s</td>\n",
       "      <td>n</td>\n",
       "      <td>f</td>\n",
       "      <td>n</td>\n",
       "      <td>a</td>\n",
       "      <td>c</td>\n",
       "      <td>b</td>\n",
       "      <td>y</td>\n",
       "      <td>...</td>\n",
       "      <td>s</td>\n",
       "      <td>s</td>\n",
       "      <td>o</td>\n",
       "      <td>o</td>\n",
       "      <td>n</td>\n",
       "      <td>o</td>\n",
       "      <td>p</td>\n",
       "      <td>b</td>\n",
       "      <td>v</td>\n",
       "      <td>l</td>\n",
       "    </tr>\n",
       "    <tr>\n",
       "      <th>8121</th>\n",
       "      <td>e</td>\n",
       "      <td>f</td>\n",
       "      <td>s</td>\n",
       "      <td>n</td>\n",
       "      <td>f</td>\n",
       "      <td>n</td>\n",
       "      <td>a</td>\n",
       "      <td>c</td>\n",
       "      <td>b</td>\n",
       "      <td>n</td>\n",
       "      <td>...</td>\n",
       "      <td>s</td>\n",
       "      <td>s</td>\n",
       "      <td>o</td>\n",
       "      <td>o</td>\n",
       "      <td>o</td>\n",
       "      <td>o</td>\n",
       "      <td>p</td>\n",
       "      <td>b</td>\n",
       "      <td>c</td>\n",
       "      <td>l</td>\n",
       "    </tr>\n",
       "    <tr>\n",
       "      <th>8122</th>\n",
       "      <td>p</td>\n",
       "      <td>k</td>\n",
       "      <td>y</td>\n",
       "      <td>n</td>\n",
       "      <td>f</td>\n",
       "      <td>y</td>\n",
       "      <td>f</td>\n",
       "      <td>c</td>\n",
       "      <td>n</td>\n",
       "      <td>b</td>\n",
       "      <td>...</td>\n",
       "      <td>s</td>\n",
       "      <td>k</td>\n",
       "      <td>w</td>\n",
       "      <td>w</td>\n",
       "      <td>w</td>\n",
       "      <td>o</td>\n",
       "      <td>e</td>\n",
       "      <td>w</td>\n",
       "      <td>v</td>\n",
       "      <td>l</td>\n",
       "    </tr>\n",
       "    <tr>\n",
       "      <th>8123</th>\n",
       "      <td>e</td>\n",
       "      <td>x</td>\n",
       "      <td>s</td>\n",
       "      <td>n</td>\n",
       "      <td>f</td>\n",
       "      <td>n</td>\n",
       "      <td>a</td>\n",
       "      <td>c</td>\n",
       "      <td>b</td>\n",
       "      <td>y</td>\n",
       "      <td>...</td>\n",
       "      <td>s</td>\n",
       "      <td>s</td>\n",
       "      <td>o</td>\n",
       "      <td>o</td>\n",
       "      <td>o</td>\n",
       "      <td>o</td>\n",
       "      <td>p</td>\n",
       "      <td>o</td>\n",
       "      <td>c</td>\n",
       "      <td>l</td>\n",
       "    </tr>\n",
       "  </tbody>\n",
       "</table>\n",
       "<p>5 rows × 22 columns</p>\n",
       "</div>"
      ],
      "text/plain": [
       "     class cap-shape cap-surface cap-color bruises odor gill-attachment  \\\n",
       "8119     e         k           s         n       f    n               a   \n",
       "8120     e         x           s         n       f    n               a   \n",
       "8121     e         f           s         n       f    n               a   \n",
       "8122     p         k           y         n       f    y               f   \n",
       "8123     e         x           s         n       f    n               a   \n",
       "\n",
       "     gill-spacing gill-size gill-color  ... stalk-surface-above-ring  \\\n",
       "8119            c         b          y  ...                        s   \n",
       "8120            c         b          y  ...                        s   \n",
       "8121            c         b          n  ...                        s   \n",
       "8122            c         n          b  ...                        s   \n",
       "8123            c         b          y  ...                        s   \n",
       "\n",
       "     stalk-surface-below-ring stalk-color-above-ring stalk-color-below-ring  \\\n",
       "8119                        s                      o                      o   \n",
       "8120                        s                      o                      o   \n",
       "8121                        s                      o                      o   \n",
       "8122                        k                      w                      w   \n",
       "8123                        s                      o                      o   \n",
       "\n",
       "     veil-color ring-number ring-type spore-print-color population habitat  \n",
       "8119          o           o         p                 b          c       l  \n",
       "8120          n           o         p                 b          v       l  \n",
       "8121          o           o         p                 b          c       l  \n",
       "8122          w           o         e                 w          v       l  \n",
       "8123          o           o         p                 o          c       l  \n",
       "\n",
       "[5 rows x 22 columns]"
      ]
     },
     "execution_count": 12,
     "metadata": {},
     "output_type": "execute_result"
    }
   ],
   "source": [
    "dataset.tail()"
   ]
  },
  {
   "cell_type": "code",
   "execution_count": 13,
   "id": "623dcd29",
   "metadata": {},
   "outputs": [
    {
     "data": {
      "text/plain": [
       "(8124, 22)"
      ]
     },
     "execution_count": 13,
     "metadata": {},
     "output_type": "execute_result"
    }
   ],
   "source": [
    "dataset.shape"
   ]
  },
  {
   "cell_type": "markdown",
   "id": "38d27d74",
   "metadata": {},
   "source": [
    "I dati risultanti sono in una forma corretta, quindi posso continuare con lo studio."
   ]
  },
  {
   "cell_type": "markdown",
   "id": "e530af6c",
   "metadata": {},
   "source": [
    "# Analisi esplorativa dei dati\n",
    "\n",
    "In questa parte andrò a studiare i dati, così da evidenziare eventuali problemi."
   ]
  },
  {
   "cell_type": "code",
   "execution_count": 14,
   "id": "9d2dabdb",
   "metadata": {},
   "outputs": [
    {
     "data": {
      "text/plain": [
       "<AxesSubplot:ylabel='class'>"
      ]
     },
     "execution_count": 14,
     "metadata": {},
     "output_type": "execute_result"
    },
    {
     "data": {
      "image/png": "[encoded data removed]",
      "text/plain": [
       "<Figure size 432x288 with 1 Axes>"
      ]
     },
     "metadata": {},
     "output_type": "display_data"
    }
   ],
   "source": [
    "dataset[\"class\"].value_counts().plot.pie()"
   ]
  },
  {
   "cell_type": "markdown",
   "id": "e4c8ba53",
   "metadata": {},
   "source": [
    "Possiamo notare che la variabile \"class\", che stiamo cercando di predirre, è abbastanza bilanciata."
   ]
  },
  {
   "cell_type": "code",
   "execution_count": 15,
   "id": "8a4b9ec0",
   "metadata": {},
   "outputs": [
    {
     "data": {
      "text/plain": [
       "d    3148\n",
       "g    2148\n",
       "p    1144\n",
       "l     832\n",
       "u     368\n",
       "m     292\n",
       "w     192\n",
       "Name: habitat, dtype: int64"
      ]
     },
     "execution_count": 15,
     "metadata": {},
     "output_type": "execute_result"
    }
   ],
   "source": [
    "dataset[\"habitat\"].value_counts()"
   ]
  },
  {
   "cell_type": "code",
   "execution_count": 16,
   "id": "beb11cfd",
   "metadata": {},
   "outputs": [
    {
     "data": {
      "text/plain": [
       "<AxesSubplot:>"
      ]
     },
     "execution_count": 16,
     "metadata": {},
     "output_type": "execute_result"
    },
    {
     "data": {
      "image/png": "[encoded data removed]",
      "text/plain": [
       "<Figure size 432x288 with 1 Axes>"
      ]
     },
     "metadata": {
      "needs_background": "light"
     },
     "output_type": "display_data"
    }
   ],
   "source": [
    "dataset[\"habitat\"].value_counts().plot(kind=\"bar\")"
   ]
  },
  {
   "cell_type": "markdown",
   "id": "5ebfebfd",
   "metadata": {},
   "source": [
    "Da questo grafico possiamo notare che i funghi che vivono negli alberi sono la grande maggioranza dei funghi."
   ]
  },
  {
   "cell_type": "markdown",
   "id": "73c5a4e8",
   "metadata": {},
   "source": [
    "## Studio di una credenza comune"
   ]
  },
  {
   "cell_type": "markdown",
   "id": "033e1996",
   "metadata": {},
   "source": [
    "Una caratteristica molto comune utilizzata per capire se un fungo è velenoso o no è il colore del cappello del fungo, infatti se questo è rosso molto probabilmente questo sarà avvelenato, verifichiamo se questa informazione è vera."
   ]
  },
  {
   "cell_type": "code",
   "execution_count": 17,
   "id": "ea22de64",
   "metadata": {},
   "outputs": [],
   "source": [
    "informazione_non_verificata=dataset[(dataset[\"cap-color\"] =='e')  & (dataset[\"class\"] == 'e')]\n",
    "informazione_verificata = dataset[(dataset[\"cap-color\"] =='e') & (dataset[\"class\"] != 'e')]"
   ]
  },
  {
   "cell_type": "code",
   "execution_count": 18,
   "id": "deb5f4af",
   "metadata": {},
   "outputs": [
    {
     "name": "stdout",
     "output_type": "stream",
     "text": [
      "L'informazione è verificata in 876 specie di funghi.\n"
     ]
    }
   ],
   "source": [
    "print(f\"L'informazione è verificata in {len(informazione_verificata)} specie di funghi.\")"
   ]
  },
  {
   "cell_type": "code",
   "execution_count": 19,
   "id": "3e1b85ab",
   "metadata": {},
   "outputs": [
    {
     "name": "stdout",
     "output_type": "stream",
     "text": [
      "L'informazione non è verificata in 624 specie di funghi.\n"
     ]
    }
   ],
   "source": [
    "print(f\"L'informazione non è verificata in {len(informazione_non_verificata)} specie di funghi.\")"
   ]
  },
  {
   "cell_type": "code",
   "execution_count": 20,
   "id": "16775899",
   "metadata": {},
   "outputs": [
    {
     "data": {
      "text/plain": [
       "<BarContainer object of 2 artists>"
      ]
     },
     "execution_count": 20,
     "metadata": {},
     "output_type": "execute_result"
    },
    {
     "data": {
      "image/png": "[encoded data removed]",
      "text/plain": [
       "<Figure size 432x288 with 1 Axes>"
      ]
     },
     "metadata": {
      "needs_background": "light"
     },
     "output_type": "display_data"
    }
   ],
   "source": [
    "plt.bar([\"Non verificata\",\"Verificata\"],[len(informazione_non_verificata), len(informazione_verificata)], color=[\"r\",\"b\"] )"
   ]
  },
  {
   "cell_type": "markdown",
   "id": "e4602a2c",
   "metadata": {},
   "source": [
    "Possiamo notare che l'informazione è verificata il maggior numero di volte, però possiamo anche notare che più di 600 tipologie di funghi sono commestibili pur avendo il cappello rosso."
   ]
  },
  {
   "cell_type": "markdown",
   "id": "16fef9f2",
   "metadata": {},
   "source": [
    "## Correlazione dei dati\n"
   ]
  },
  {
   "cell_type": "code",
   "execution_count": 21,
   "id": "946e76a2",
   "metadata": {},
   "outputs": [
    {
     "data": {
      "image/png": "[encoded data removed]",
      "text/plain": [
       "<Figure size 1080x864 with 2 Axes>"
      ]
     },
     "metadata": {
      "needs_background": "light"
     },
     "output_type": "display_data"
    }
   ],
   "source": [
    "labelencoder=LabelEncoder()\n",
    "df = dataset\n",
    "for column in df.columns:\n",
    "    df[column] = labelencoder.fit_transform(df[column])\n",
    "plt.figure(figsize=(15,12))\n",
    "sn.heatmap(df.corr(),linewidths=.1,cmap=\"YlGnBu\", annot=True)\n",
    "plt.yticks(rotation=0);"
   ]
  },
  {
   "cell_type": "code",
   "execution_count": 22,
   "id": "c8de8b0c",
   "metadata": {},
   "outputs": [
    {
     "data": {
      "text/plain": [
       "'gill-size'"
      ]
     },
     "execution_count": 22,
     "metadata": {},
     "output_type": "execute_result"
    }
   ],
   "source": [
    "np.abs(df.corr()[\"class\"])[1:].idxmax()"
   ]
  },
  {
   "cell_type": "markdown",
   "id": "bdb9b372",
   "metadata": {},
   "source": [
    "Dalla matrice di correlazione possiamo notare che la relazione tra la nostra variabile da predirre e gill-size è abbastanza alta, per cui negli studi successivi ci aspetteremo che gill-size abbia una grande importanza nel determinare se il fungo è commestibile o no."
   ]
  },
  {
   "cell_type": "markdown",
   "id": "3c4e5c0c",
   "metadata": {},
   "source": [
    "# Creazione dei set\n",
    "\n",
    "Ora creiamo i set per il training dei modelli e il calcolo dello score sul validation."
   ]
  },
  {
   "cell_type": "code",
   "execution_count": 23,
   "id": "66538539",
   "metadata": {},
   "outputs": [],
   "source": [
    "X_train, X_val, y_train, y_val = train_test_split(dataset.drop('class', axis=1), dataset['class'], random_state=42, test_size=1/3)"
   ]
  },
  {
   "cell_type": "markdown",
   "id": "b5e750e8",
   "metadata": {},
   "source": [
    "# Predizione random\n",
    "\n",
    "Prima di inziare lo studio con i modelli di classificazione per predirre la variabile class, eseguo una predizione random per avere un modello di base da confrontare con gli altri modelli."
   ]
  },
  {
   "cell_type": "code",
   "execution_count": 24,
   "id": "9d37865f",
   "metadata": {},
   "outputs": [
    {
     "data": {
      "text/plain": [
       "0.5018463810930576"
      ]
     },
     "execution_count": 24,
     "metadata": {},
     "output_type": "execute_result"
    }
   ],
   "source": [
    "random_prediction=[]\n",
    "for i in range(len(y_val)):\n",
    "    random_prediction.append(random.randint(0,1))\n",
    "random_pred=pd.Series(random_prediction)\n",
    "len(random_pred[random_pred==pd.Series(y_val.values)])/len(y_val)"
   ]
  },
  {
   "cell_type": "markdown",
   "id": "ccf1ed8b",
   "metadata": {},
   "source": [
    "La probabilità di predirre in modo corretto la variabile è circa il 50%, come potevamo aspettarci dalla teoria, infatti la nostra variabile può avere solo 2 valori, avendo così un 50% di possibilità di indovinarla ogni volta."
   ]
  },
  {
   "cell_type": "markdown",
   "id": "458d63ef",
   "metadata": {},
   "source": [
    "# Perceptron\n",
    "\n",
    "Iniziamo lo studio dei modelli con Perceptron, il più semplice dei modelli di classificazione."
   ]
  },
  {
   "cell_type": "code",
   "execution_count": 25,
   "id": "50b51505",
   "metadata": {},
   "outputs": [],
   "source": [
    "perceptron = Perceptron()"
   ]
  },
  {
   "cell_type": "code",
   "execution_count": 26,
   "id": "d51dc76b",
   "metadata": {},
   "outputs": [],
   "source": [
    "grid_perceptron = {\n",
    "    'penalty': ['l1', 'l2', 'elasticnet',None], #regolarizzazioni da effettuare\n",
    "    'alpha': np.logspace(-5, -3, 3), #peso della regolarizzazione\n",
    "}\n",
    "gridPerceptron = GridSearchCV(perceptron, param_grid=grid_perceptron, n_jobs=-1)"
   ]
  },
  {
   "cell_type": "code",
   "execution_count": 27,
   "id": "976f9e24",
   "metadata": {},
   "outputs": [
    {
     "data": {
      "text/plain": [
       "0.9527326440177253"
      ]
     },
     "execution_count": 27,
     "metadata": {},
     "output_type": "execute_result"
    }
   ],
   "source": [
    "gridPerceptron.fit(X_train, y_train)\n",
    "gridPerceptron.score(X_val, y_val)"
   ]
  },
  {
   "cell_type": "code",
   "execution_count": 28,
   "id": "8de69711",
   "metadata": {},
   "outputs": [
    {
     "data": {
      "text/html": [
       "<div>\n",
       "<style scoped>\n",
       "    .dataframe tbody tr th:only-of-type {\n",
       "        vertical-align: middle;\n",
       "    }\n",
       "\n",
       "    .dataframe tbody tr th {\n",
       "        vertical-align: top;\n",
       "    }\n",
       "\n",
       "    .dataframe thead th {\n",
       "        text-align: right;\n",
       "    }\n",
       "</style>\n",
       "<table border=\"1\" class=\"dataframe\">\n",
       "  <thead>\n",
       "    <tr style=\"text-align: right;\">\n",
       "      <th></th>\n",
       "      <th>mean_fit_time</th>\n",
       "      <th>std_fit_time</th>\n",
       "      <th>mean_score_time</th>\n",
       "      <th>std_score_time</th>\n",
       "      <th>param_alpha</th>\n",
       "      <th>param_penalty</th>\n",
       "      <th>params</th>\n",
       "      <th>split0_test_score</th>\n",
       "      <th>split1_test_score</th>\n",
       "      <th>split2_test_score</th>\n",
       "      <th>split3_test_score</th>\n",
       "      <th>split4_test_score</th>\n",
       "      <th>mean_test_score</th>\n",
       "      <th>std_test_score</th>\n",
       "      <th>rank_test_score</th>\n",
       "    </tr>\n",
       "  </thead>\n",
       "  <tbody>\n",
       "    <tr>\n",
       "      <th>3</th>\n",
       "      <td>0.034383</td>\n",
       "      <td>0.011696</td>\n",
       "      <td>0.009382</td>\n",
       "      <td>0.007661</td>\n",
       "      <td>0.00001</td>\n",
       "      <td>None</td>\n",
       "      <td>{'alpha': 1e-05, 'penalty': None}</td>\n",
       "      <td>0.965867</td>\n",
       "      <td>0.904894</td>\n",
       "      <td>0.920591</td>\n",
       "      <td>0.913204</td>\n",
       "      <td>0.911357</td>\n",
       "      <td>0.923183</td>\n",
       "      <td>0.021921</td>\n",
       "      <td>1</td>\n",
       "    </tr>\n",
       "    <tr>\n",
       "      <th>7</th>\n",
       "      <td>0.028109</td>\n",
       "      <td>0.006248</td>\n",
       "      <td>0.003126</td>\n",
       "      <td>0.006252</td>\n",
       "      <td>0.0001</td>\n",
       "      <td>None</td>\n",
       "      <td>{'alpha': 0.0001, 'penalty': None}</td>\n",
       "      <td>0.965867</td>\n",
       "      <td>0.904894</td>\n",
       "      <td>0.920591</td>\n",
       "      <td>0.913204</td>\n",
       "      <td>0.911357</td>\n",
       "      <td>0.923183</td>\n",
       "      <td>0.021921</td>\n",
       "      <td>1</td>\n",
       "    </tr>\n",
       "    <tr>\n",
       "      <th>11</th>\n",
       "      <td>0.024993</td>\n",
       "      <td>0.007664</td>\n",
       "      <td>0.003129</td>\n",
       "      <td>0.006259</td>\n",
       "      <td>0.001</td>\n",
       "      <td>None</td>\n",
       "      <td>{'alpha': 0.001, 'penalty': None}</td>\n",
       "      <td>0.965867</td>\n",
       "      <td>0.904894</td>\n",
       "      <td>0.920591</td>\n",
       "      <td>0.913204</td>\n",
       "      <td>0.911357</td>\n",
       "      <td>0.923183</td>\n",
       "      <td>0.021921</td>\n",
       "      <td>1</td>\n",
       "    </tr>\n",
       "    <tr>\n",
       "      <th>4</th>\n",
       "      <td>0.062483</td>\n",
       "      <td>0.013963</td>\n",
       "      <td>0.000000</td>\n",
       "      <td>0.000000</td>\n",
       "      <td>0.0001</td>\n",
       "      <td>l1</td>\n",
       "      <td>{'alpha': 0.0001, 'penalty': 'l1'}</td>\n",
       "      <td>0.944649</td>\n",
       "      <td>0.923361</td>\n",
       "      <td>0.824561</td>\n",
       "      <td>0.953832</td>\n",
       "      <td>0.939058</td>\n",
       "      <td>0.917092</td>\n",
       "      <td>0.047314</td>\n",
       "      <td>4</td>\n",
       "    </tr>\n",
       "    <tr>\n",
       "      <th>0</th>\n",
       "      <td>0.056252</td>\n",
       "      <td>0.018742</td>\n",
       "      <td>0.009373</td>\n",
       "      <td>0.007653</td>\n",
       "      <td>0.00001</td>\n",
       "      <td>l1</td>\n",
       "      <td>{'alpha': 1e-05, 'penalty': 'l1'}</td>\n",
       "      <td>0.900369</td>\n",
       "      <td>0.933518</td>\n",
       "      <td>0.924284</td>\n",
       "      <td>0.890120</td>\n",
       "      <td>0.901200</td>\n",
       "      <td>0.909898</td>\n",
       "      <td>0.016263</td>\n",
       "      <td>5</td>\n",
       "    </tr>\n",
       "  </tbody>\n",
       "</table>\n",
       "</div>"
      ],
      "text/plain": [
       "    mean_fit_time  std_fit_time  mean_score_time  std_score_time param_alpha  \\\n",
       "3        0.034383      0.011696         0.009382        0.007661     0.00001   \n",
       "7        0.028109      0.006248         0.003126        0.006252      0.0001   \n",
       "11       0.024993      0.007664         0.003129        0.006259       0.001   \n",
       "4        0.062483      0.013963         0.000000        0.000000      0.0001   \n",
       "0        0.056252      0.018742         0.009373        0.007653     0.00001   \n",
       "\n",
       "   param_penalty                              params  split0_test_score  \\\n",
       "3           None   {'alpha': 1e-05, 'penalty': None}           0.965867   \n",
       "7           None  {'alpha': 0.0001, 'penalty': None}           0.965867   \n",
       "11          None   {'alpha': 0.001, 'penalty': None}           0.965867   \n",
       "4             l1  {'alpha': 0.0001, 'penalty': 'l1'}           0.944649   \n",
       "0             l1   {'alpha': 1e-05, 'penalty': 'l1'}           0.900369   \n",
       "\n",
       "    split1_test_score  split2_test_score  split3_test_score  \\\n",
       "3            0.904894           0.920591           0.913204   \n",
       "7            0.904894           0.920591           0.913204   \n",
       "11           0.904894           0.920591           0.913204   \n",
       "4            0.923361           0.824561           0.953832   \n",
       "0            0.933518           0.924284           0.890120   \n",
       "\n",
       "    split4_test_score  mean_test_score  std_test_score  rank_test_score  \n",
       "3            0.911357         0.923183        0.021921                1  \n",
       "7            0.911357         0.923183        0.021921                1  \n",
       "11           0.911357         0.923183        0.021921                1  \n",
       "4            0.939058         0.917092        0.047314                4  \n",
       "0            0.901200         0.909898        0.016263                5  "
      ]
     },
     "execution_count": 28,
     "metadata": {},
     "output_type": "execute_result"
    }
   ],
   "source": [
    "pd.DataFrame(gridPerceptron.cv_results_).sort_values(\"rank_test_score\").head()"
   ]
  },
  {
   "cell_type": "code",
   "execution_count": 29,
   "id": "e7c62887",
   "metadata": {},
   "outputs": [
    {
     "data": {
      "text/plain": [
       "alpha      0.00001\n",
       "penalty        NaN\n",
       "dtype: float64"
      ]
     },
     "execution_count": 29,
     "metadata": {},
     "output_type": "execute_result"
    }
   ],
   "source": [
    "pd.Series(gridPerceptron.best_params_)"
   ]
  },
  {
   "cell_type": "markdown",
   "id": "b2f3f328",
   "metadata": {},
   "source": [
    "Possiamo notare che, il modello Perceptron, trova il miglior risultato con i parametri:\n",
    "\n",
    "- Nessuna penalizzazione\n",
    "- Con il parametro alpha che vale 0.00001\n",
    "\n",
    "Il risultato ottenuto da questo modello è già molto buono, ma probabilmente utilizzando modelli più evoluti si possono ottenere migliori risultati, per cui continuiamo il nostro studio."
   ]
  },
  {
   "cell_type": "markdown",
   "id": "e2a8989f",
   "metadata": {},
   "source": [
    "# Logistic Regression\n",
    "\n",
    "Per cercare di migliorare i risultati ora studiamo la regressione logistica.\n",
    "\n",
    "Come prima utilizzamo una grid search per cercare i migliori parametri per il modello."
   ]
  },
  {
   "cell_type": "code",
   "execution_count": 30,
   "id": "e101bb3b",
   "metadata": {},
   "outputs": [
    {
     "data": {
      "text/plain": [
       "0.9579025110782866"
      ]
     },
     "execution_count": 30,
     "metadata": {},
     "output_type": "execute_result"
    }
   ],
   "source": [
    "grid_lr = {\n",
    "    'C' : [1, 3, 5, 10, 20, 40, 80],\n",
    "    'penalty': ['l2', 'l1', 'elasticnet', None]\n",
    "}\n",
    "logisticRegression = LogisticRegression()\n",
    "\n",
    "gridLogisticRegression = GridSearchCV(logisticRegression, param_grid=grid_lr, n_jobs=-1)\n",
    "gridLogisticRegression.fit(X_train, y_train)\n",
    "gridLogisticRegression.score(X_val, y_val)"
   ]
  },
  {
   "cell_type": "code",
   "execution_count": 31,
   "id": "eb65287d",
   "metadata": {},
   "outputs": [
    {
     "data": {
      "text/html": [
       "<div>\n",
       "<style scoped>\n",
       "    .dataframe tbody tr th:only-of-type {\n",
       "        vertical-align: middle;\n",
       "    }\n",
       "\n",
       "    .dataframe tbody tr th {\n",
       "        vertical-align: top;\n",
       "    }\n",
       "\n",
       "    .dataframe thead th {\n",
       "        text-align: right;\n",
       "    }\n",
       "</style>\n",
       "<table border=\"1\" class=\"dataframe\">\n",
       "  <thead>\n",
       "    <tr style=\"text-align: right;\">\n",
       "      <th></th>\n",
       "      <th>mean_fit_time</th>\n",
       "      <th>std_fit_time</th>\n",
       "      <th>mean_score_time</th>\n",
       "      <th>std_score_time</th>\n",
       "      <th>param_alpha</th>\n",
       "      <th>param_penalty</th>\n",
       "      <th>params</th>\n",
       "      <th>split0_test_score</th>\n",
       "      <th>split1_test_score</th>\n",
       "      <th>split2_test_score</th>\n",
       "      <th>split3_test_score</th>\n",
       "      <th>split4_test_score</th>\n",
       "      <th>mean_test_score</th>\n",
       "      <th>std_test_score</th>\n",
       "      <th>rank_test_score</th>\n",
       "    </tr>\n",
       "  </thead>\n",
       "  <tbody>\n",
       "    <tr>\n",
       "      <th>3</th>\n",
       "      <td>0.034383</td>\n",
       "      <td>0.011696</td>\n",
       "      <td>0.009382</td>\n",
       "      <td>0.007661</td>\n",
       "      <td>0.00001</td>\n",
       "      <td>None</td>\n",
       "      <td>{'alpha': 1e-05, 'penalty': None}</td>\n",
       "      <td>0.965867</td>\n",
       "      <td>0.904894</td>\n",
       "      <td>0.920591</td>\n",
       "      <td>0.913204</td>\n",
       "      <td>0.911357</td>\n",
       "      <td>0.923183</td>\n",
       "      <td>0.021921</td>\n",
       "      <td>1</td>\n",
       "    </tr>\n",
       "    <tr>\n",
       "      <th>7</th>\n",
       "      <td>0.028109</td>\n",
       "      <td>0.006248</td>\n",
       "      <td>0.003126</td>\n",
       "      <td>0.006252</td>\n",
       "      <td>0.0001</td>\n",
       "      <td>None</td>\n",
       "      <td>{'alpha': 0.0001, 'penalty': None}</td>\n",
       "      <td>0.965867</td>\n",
       "      <td>0.904894</td>\n",
       "      <td>0.920591</td>\n",
       "      <td>0.913204</td>\n",
       "      <td>0.911357</td>\n",
       "      <td>0.923183</td>\n",
       "      <td>0.021921</td>\n",
       "      <td>1</td>\n",
       "    </tr>\n",
       "    <tr>\n",
       "      <th>11</th>\n",
       "      <td>0.024993</td>\n",
       "      <td>0.007664</td>\n",
       "      <td>0.003129</td>\n",
       "      <td>0.006259</td>\n",
       "      <td>0.001</td>\n",
       "      <td>None</td>\n",
       "      <td>{'alpha': 0.001, 'penalty': None}</td>\n",
       "      <td>0.965867</td>\n",
       "      <td>0.904894</td>\n",
       "      <td>0.920591</td>\n",
       "      <td>0.913204</td>\n",
       "      <td>0.911357</td>\n",
       "      <td>0.923183</td>\n",
       "      <td>0.021921</td>\n",
       "      <td>1</td>\n",
       "    </tr>\n",
       "    <tr>\n",
       "      <th>4</th>\n",
       "      <td>0.062483</td>\n",
       "      <td>0.013963</td>\n",
       "      <td>0.000000</td>\n",
       "      <td>0.000000</td>\n",
       "      <td>0.0001</td>\n",
       "      <td>l1</td>\n",
       "      <td>{'alpha': 0.0001, 'penalty': 'l1'}</td>\n",
       "      <td>0.944649</td>\n",
       "      <td>0.923361</td>\n",
       "      <td>0.824561</td>\n",
       "      <td>0.953832</td>\n",
       "      <td>0.939058</td>\n",
       "      <td>0.917092</td>\n",
       "      <td>0.047314</td>\n",
       "      <td>4</td>\n",
       "    </tr>\n",
       "    <tr>\n",
       "      <th>0</th>\n",
       "      <td>0.056252</td>\n",
       "      <td>0.018742</td>\n",
       "      <td>0.009373</td>\n",
       "      <td>0.007653</td>\n",
       "      <td>0.00001</td>\n",
       "      <td>l1</td>\n",
       "      <td>{'alpha': 1e-05, 'penalty': 'l1'}</td>\n",
       "      <td>0.900369</td>\n",
       "      <td>0.933518</td>\n",
       "      <td>0.924284</td>\n",
       "      <td>0.890120</td>\n",
       "      <td>0.901200</td>\n",
       "      <td>0.909898</td>\n",
       "      <td>0.016263</td>\n",
       "      <td>5</td>\n",
       "    </tr>\n",
       "  </tbody>\n",
       "</table>\n",
       "</div>"
      ],
      "text/plain": [
       "    mean_fit_time  std_fit_time  mean_score_time  std_score_time param_alpha  \\\n",
       "3        0.034383      0.011696         0.009382        0.007661     0.00001   \n",
       "7        0.028109      0.006248         0.003126        0.006252      0.0001   \n",
       "11       0.024993      0.007664         0.003129        0.006259       0.001   \n",
       "4        0.062483      0.013963         0.000000        0.000000      0.0001   \n",
       "0        0.056252      0.018742         0.009373        0.007653     0.00001   \n",
       "\n",
       "   param_penalty                              params  split0_test_score  \\\n",
       "3           None   {'alpha': 1e-05, 'penalty': None}           0.965867   \n",
       "7           None  {'alpha': 0.0001, 'penalty': None}           0.965867   \n",
       "11          None   {'alpha': 0.001, 'penalty': None}           0.965867   \n",
       "4             l1  {'alpha': 0.0001, 'penalty': 'l1'}           0.944649   \n",
       "0             l1   {'alpha': 1e-05, 'penalty': 'l1'}           0.900369   \n",
       "\n",
       "    split1_test_score  split2_test_score  split3_test_score  \\\n",
       "3            0.904894           0.920591           0.913204   \n",
       "7            0.904894           0.920591           0.913204   \n",
       "11           0.904894           0.920591           0.913204   \n",
       "4            0.923361           0.824561           0.953832   \n",
       "0            0.933518           0.924284           0.890120   \n",
       "\n",
       "    split4_test_score  mean_test_score  std_test_score  rank_test_score  \n",
       "3            0.911357         0.923183        0.021921                1  \n",
       "7            0.911357         0.923183        0.021921                1  \n",
       "11           0.911357         0.923183        0.021921                1  \n",
       "4            0.939058         0.917092        0.047314                4  \n",
       "0            0.901200         0.909898        0.016263                5  "
      ]
     },
     "execution_count": 31,
     "metadata": {},
     "output_type": "execute_result"
    }
   ],
   "source": [
    "pd.DataFrame(gridPerceptron.cv_results_).sort_values(\"rank_test_score\").head()"
   ]
  },
  {
   "cell_type": "code",
   "execution_count": 32,
   "id": "11e3fc22",
   "metadata": {},
   "outputs": [
    {
     "data": {
      "text/plain": [
       "C          20\n",
       "penalty    l2\n",
       "dtype: object"
      ]
     },
     "execution_count": 32,
     "metadata": {},
     "output_type": "execute_result"
    }
   ],
   "source": [
    "pd.Series(gridLogisticRegression.best_params_)"
   ]
  },
  {
   "cell_type": "markdown",
   "id": "33256e95",
   "metadata": {},
   "source": [
    "Possiamo notare che i migliori parametri nella Logistic Regression sono:\n",
    "\n",
    "- C=20\n",
    "- penalty = l2\n",
    "\n",
    "Come ci aspettavamo, il risultato ottenuto è migliore rispetto a Perceptron, dato che il modello qui utilizzato è più complicato ma anche più performante."
   ]
  },
  {
   "cell_type": "code",
   "execution_count": 33,
   "id": "ce054b1f",
   "metadata": {},
   "outputs": [
    {
     "data": {
      "text/html": [
       "<div>\n",
       "<style scoped>\n",
       "    .dataframe tbody tr th:only-of-type {\n",
       "        vertical-align: middle;\n",
       "    }\n",
       "\n",
       "    .dataframe tbody tr th {\n",
       "        vertical-align: top;\n",
       "    }\n",
       "\n",
       "    .dataframe thead th {\n",
       "        text-align: right;\n",
       "    }\n",
       "</style>\n",
       "<table border=\"1\" class=\"dataframe\">\n",
       "  <thead>\n",
       "    <tr style=\"text-align: right;\">\n",
       "      <th></th>\n",
       "      <th>cap-shape</th>\n",
       "      <th>cap-surface</th>\n",
       "      <th>cap-color</th>\n",
       "      <th>bruises</th>\n",
       "      <th>odor</th>\n",
       "      <th>gill-attachment</th>\n",
       "      <th>gill-spacing</th>\n",
       "      <th>gill-size</th>\n",
       "      <th>gill-color</th>\n",
       "      <th>stalk-shape</th>\n",
       "      <th>...</th>\n",
       "      <th>stalk-surface-above-ring</th>\n",
       "      <th>stalk-surface-below-ring</th>\n",
       "      <th>stalk-color-above-ring</th>\n",
       "      <th>stalk-color-below-ring</th>\n",
       "      <th>veil-color</th>\n",
       "      <th>ring-number</th>\n",
       "      <th>ring-type</th>\n",
       "      <th>spore-print-color</th>\n",
       "      <th>population</th>\n",
       "      <th>habitat</th>\n",
       "    </tr>\n",
       "  </thead>\n",
       "  <tbody>\n",
       "    <tr>\n",
       "      <th>0</th>\n",
       "      <td>-0.048069</td>\n",
       "      <td>0.375031</td>\n",
       "      <td>-0.082851</td>\n",
       "      <td>0.611503</td>\n",
       "      <td>-0.870466</td>\n",
       "      <td>-1.694563</td>\n",
       "      <td>-13.512258</td>\n",
       "      <td>13.330421</td>\n",
       "      <td>-0.140139</td>\n",
       "      <td>-0.80019</td>\n",
       "      <td>...</td>\n",
       "      <td>-7.964989</td>\n",
       "      <td>0.068188</td>\n",
       "      <td>-0.188325</td>\n",
       "      <td>-0.077222</td>\n",
       "      <td>9.679169</td>\n",
       "      <td>1.460476</td>\n",
       "      <td>2.421009</td>\n",
       "      <td>-0.202538</td>\n",
       "      <td>-0.839372</td>\n",
       "      <td>0.095049</td>\n",
       "    </tr>\n",
       "  </tbody>\n",
       "</table>\n",
       "<p>1 rows × 21 columns</p>\n",
       "</div>"
      ],
      "text/plain": [
       "   cap-shape  cap-surface  cap-color   bruises      odor  gill-attachment  \\\n",
       "0  -0.048069     0.375031  -0.082851  0.611503 -0.870466        -1.694563   \n",
       "\n",
       "   gill-spacing  gill-size  gill-color  stalk-shape  ...  \\\n",
       "0    -13.512258  13.330421   -0.140139     -0.80019  ...   \n",
       "\n",
       "   stalk-surface-above-ring  stalk-surface-below-ring  stalk-color-above-ring  \\\n",
       "0                 -7.964989                  0.068188               -0.188325   \n",
       "\n",
       "   stalk-color-below-ring  veil-color  ring-number  ring-type  \\\n",
       "0               -0.077222    9.679169     1.460476   2.421009   \n",
       "\n",
       "   spore-print-color  population   habitat  \n",
       "0          -0.202538   -0.839372  0.095049  \n",
       "\n",
       "[1 rows x 21 columns]"
      ]
     },
     "execution_count": 33,
     "metadata": {},
     "output_type": "execute_result"
    }
   ],
   "source": [
    "model_logreg = gridLogisticRegression.best_estimator_\n",
    "coeffs = pd.DataFrame(model_logreg.coef_, columns=model_logreg.feature_names_in_)\n",
    "coeffs"
   ]
  },
  {
   "cell_type": "markdown",
   "id": "01307100",
   "metadata": {},
   "source": [
    "Qui possiamo inoltre visualizzare i migliori coefficienti trovati per la classificazione con logistic regression."
   ]
  },
  {
   "cell_type": "markdown",
   "id": "a9f6c251",
   "metadata": {},
   "source": [
    "# Random Forest\n",
    "\n",
    "Ora analizziamo il problema utilizzando un modello random forest."
   ]
  },
  {
   "cell_type": "code",
   "execution_count": 34,
   "id": "7649e33d",
   "metadata": {},
   "outputs": [],
   "source": [
    "from sklearn.metrics import classification_report"
   ]
  },
  {
   "cell_type": "code",
   "execution_count": 35,
   "id": "7f452da7",
   "metadata": {},
   "outputs": [],
   "source": [
    "randomForest = RandomForestClassifier(n_jobs=-1, random_state=42)"
   ]
  },
  {
   "cell_type": "code",
   "execution_count": 36,
   "id": "0b445b04",
   "metadata": {},
   "outputs": [
    {
     "data": {
      "text/plain": [
       "1.0"
      ]
     },
     "execution_count": 36,
     "metadata": {},
     "output_type": "execute_result"
    }
   ],
   "source": [
    "grid_rf = {\n",
    "    \"n_estimators\": [10, 50, 100, 200],\n",
    "    \"max_depth\": [2, 5, 8],\n",
    "    \"min_samples_leaf\": [1, 3, 5],\n",
    "    \"min_samples_split\": [1, 3, 5]\n",
    "}\n",
    "gridRandomForest = GridSearchCV(randomForest,  param_grid=grid_rf, n_jobs=-1)\n",
    "gridRandomForest.fit(X_train, y_train)\n",
    "gridRandomForest.score(X_val, y_val)"
   ]
  },
  {
   "cell_type": "markdown",
   "id": "b1d7017e",
   "metadata": {},
   "source": [
    "# XGBOOST"
   ]
  },
  {
   "cell_type": "markdown",
   "id": "e86e2b5f",
   "metadata": {},
   "source": [
    "Ora analizziamo il problema utilizzando un modello XGBOOST."
   ]
  },
  {
   "cell_type": "code",
   "execution_count": 37,
   "id": "e25b624a",
   "metadata": {},
   "outputs": [],
   "source": [
    "from xgboost import XGBClassifier\n",
    "from sklearn.model_selection import KFold\n",
    "kf = KFold()\n",
    "xgboost = XGBClassifier(objective='binary:logistic')"
   ]
  },
  {
   "cell_type": "code",
   "execution_count": 38,
   "id": "faafa85d",
   "metadata": {},
   "outputs": [
    {
     "name": "stdout",
     "output_type": "stream",
     "text": [
      "[17:44:12] WARNING: C:\\Users\\Administrator\\workspace\\xgboost-win64_release_1.1.0\\src\\learner.cc:480: \n",
      "Parameters: { n-estimators } might not be used.\n",
      "\n",
      "  This may not be accurate due to some parameters are only used in language bindings but\n",
      "  passed down to XGBoost core.  Or some parameters are not used but slip through this\n",
      "  verification. Please open an issue if you find above cases.\n",
      "\n",
      "\n"
     ]
    },
    {
     "data": {
      "text/plain": [
       "1.0"
      ]
     },
     "execution_count": 38,
     "metadata": {},
     "output_type": "execute_result"
    }
   ],
   "source": [
    "grid_xg = {\n",
    "    \"eta\" : [0.001,0.1],\n",
    "    \"max_depth\":[2, 4],\n",
    "    \"n-estimators\":[150,300],\n",
    "    \"alpha\": [0.001, 0.01, 1]\n",
    "}\n",
    "\n",
    "xgboostGrid = GridSearchCV(xgboost,  param_grid=grid_xg, n_jobs=-1, cv=kf)\n",
    "xgboostGrid.fit(X_train, y_train) \n",
    "xgboostGrid.score(X_val, y_val)"
   ]
  },
  {
   "cell_type": "code",
   "execution_count": 39,
   "id": "0b8f65d0",
   "metadata": {},
   "outputs": [
    {
     "data": {
      "text/plain": [
       "{'alpha': 0.001, 'eta': 0.1, 'max_depth': 4, 'n-estimators': 150}"
      ]
     },
     "execution_count": 39,
     "metadata": {},
     "output_type": "execute_result"
    }
   ],
   "source": [
    "xgboostGrid.best_params_"
   ]
  },
  {
   "cell_type": "markdown",
   "id": "e79c7ba5",
   "metadata": {},
   "source": [
    "# SVM"
   ]
  },
  {
   "cell_type": "markdown",
   "id": "623e5c2f",
   "metadata": {},
   "source": [
    "Ora analizziamo il problema con un modello SVM."
   ]
  },
  {
   "cell_type": "code",
   "execution_count": 40,
   "id": "6b157142",
   "metadata": {},
   "outputs": [],
   "source": [
    "svm = SVC()"
   ]
  },
  {
   "cell_type": "code",
   "execution_count": 41,
   "id": "dd43e878",
   "metadata": {},
   "outputs": [
    {
     "data": {
      "text/plain": [
       "0.9896602658788775"
      ]
     },
     "execution_count": 41,
     "metadata": {},
     "output_type": "execute_result"
    }
   ],
   "source": [
    "grid_svm = {\n",
    "    \"kernel\":[\"rbf\", \"linear\"],\n",
    "    \"C\":[0.01,0.1, 1]\n",
    "}\n",
    "gridSVM = GridSearchCV(svm, param_grid=grid_svm, n_jobs=-1, cv=kf)\n",
    "gridSVM.fit(X_train, y_train)\n",
    "gridSVM.score(X_val, y_val)"
   ]
  },
  {
   "cell_type": "code",
   "execution_count": 42,
   "id": "2f23e75e",
   "metadata": {},
   "outputs": [
    {
     "data": {
      "text/plain": [
       "{'C': 1, 'kernel': 'rbf'}"
      ]
     },
     "execution_count": 42,
     "metadata": {},
     "output_type": "execute_result"
    }
   ],
   "source": [
    "gridSVM.best_params_"
   ]
  },
  {
   "cell_type": "markdown",
   "id": "0b1af6de",
   "metadata": {},
   "source": [
    "# Confronto tra modelli\n",
    "In questa parte analizzeremo i risultati ottenuti da tutti i modelli per poter trovare il migliore.\n",
    "\n",
    "Per il confronto tra modelli utilizzeremo varie tecniche diverse:\n",
    "\n",
    "- Calcolare la matrice di confusione\n",
    "\n",
    "- Calcolare precision, recall e f1-score\n",
    "\n",
    "- Calcolo degli intervalli di confidenza, con confidenza fissata a 95%"
   ]
  },
  {
   "cell_type": "code",
   "execution_count": 43,
   "id": "89a8e4e9",
   "metadata": {},
   "outputs": [],
   "source": [
    "def confusion_matrix_creator(model):\n",
    "    return confusion_matrix(y_val, model.predict(X_val))"
   ]
  },
  {
   "cell_type": "code",
   "execution_count": 44,
   "id": "a2449cee",
   "metadata": {},
   "outputs": [],
   "source": [
    "def calcolate_precision_recall_f1(model):\n",
    "    pred = model.predict(X_val)\n",
    "    p = precision_score(y_val, pred)\n",
    "    r = recall_score(y_val, pred)\n",
    "    f1 = f1_score(y_val, pred)\n",
    "    return {\"precision\" : p, \"recall\": r, \"f1-score\": f1}"
   ]
  },
  {
   "cell_type": "code",
   "execution_count": 45,
   "id": "d5bba1fa",
   "metadata": {},
   "outputs": [],
   "source": [
    "def confidence(acc, N, Z):\n",
    "    den = (2*(N+Z**2))\n",
    "    var = (Z*np.sqrt(Z**2+4*N*acc-4*N*acc**2)) / den\n",
    "    a = (2*N*acc+Z**2) / den\n",
    "    inf = a - var\n",
    "    sup = a + var\n",
    "    return (inf, sup)\n",
    "\n",
    "def calculate_accuracy(conf_matrix):\n",
    "    return np.diag(conf_matrix).sum() / conf_matrix.sum().sum()"
   ]
  },
  {
   "cell_type": "markdown",
   "id": "4d0b696c",
   "metadata": {},
   "source": [
    "### Perceptron"
   ]
  },
  {
   "cell_type": "markdown",
   "id": "cfae2514",
   "metadata": {},
   "source": [
    "Utilizziamo il modello creato ed addestrato sopra per poter ottenere i dati per il confronto con gli altri modelli."
   ]
  },
  {
   "cell_type": "code",
   "execution_count": 47,
   "id": "cec2b140",
   "metadata": {},
   "outputs": [
    {
     "data": {
      "text/plain": [
       "<AxesSubplot:>"
      ]
     },
     "execution_count": 47,
     "metadata": {},
     "output_type": "execute_result"
    },
    {
     "data": {
      "image/png": "[encoded data removed]",
      "text/plain": [
       "<Figure size 432x288 with 2 Axes>"
      ]
     },
     "metadata": {
      "needs_background": "light"
     },
     "output_type": "display_data"
    }
   ],
   "source": [
    "confPer = confusion_matrix_creator(gridPerceptron)\n",
    "sn.heatmap(confPer/np.sum(confPer), cmap = \"YlGnBu\", annot = True, annot_kws = {'size':15})"
   ]
  },
  {
   "cell_type": "markdown",
   "id": "f4bceb2f",
   "metadata": {},
   "source": [
    "### Logistic Regression"
   ]
  },
  {
   "cell_type": "markdown",
   "id": "374c2d59",
   "metadata": {},
   "source": [
    "Utilizziamo il modello creato ed addestrato sopra per poter ottenere i dati per il confronto con gli altri modelli."
   ]
  },
  {
   "cell_type": "code",
   "execution_count": 48,
   "id": "b64f3ecb",
   "metadata": {},
   "outputs": [
    {
     "data": {
      "text/plain": [
       "<AxesSubplot:>"
      ]
     },
     "execution_count": 48,
     "metadata": {},
     "output_type": "execute_result"
    },
    {
     "data": {
      "image/png": "[encoded data removed]",
      "text/plain": [
       "<Figure size 432x288 with 2 Axes>"
      ]
     },
     "metadata": {
      "needs_background": "light"
     },
     "output_type": "display_data"
    }
   ],
   "source": [
    "confLog = confusion_matrix_creator(gridLogisticRegression)\n",
    "sn.heatmap(confLog/np.sum(confLog), cmap = \"YlGnBu\", annot = True, annot_kws = {'size':15})"
   ]
  },
  {
   "cell_type": "markdown",
   "id": "71f4f693",
   "metadata": {},
   "source": [
    "### Random Forest"
   ]
  },
  {
   "cell_type": "markdown",
   "id": "36d9c9ea",
   "metadata": {},
   "source": [
    "Utilizziamo il modello creato ed addestrato sopra per poter ottenere i dati per il confronto con gli altri modelli."
   ]
  },
  {
   "cell_type": "code",
   "execution_count": 49,
   "id": "dc24e864",
   "metadata": {},
   "outputs": [
    {
     "data": {
      "text/plain": [
       "<AxesSubplot:>"
      ]
     },
     "execution_count": 49,
     "metadata": {},
     "output_type": "execute_result"
    },
    {
     "data": {
      "image/png": "[encoded data removed]",
      "text/plain": [
       "<Figure size 432x288 with 2 Axes>"
      ]
     },
     "metadata": {
      "needs_background": "light"
     },
     "output_type": "display_data"
    }
   ],
   "source": [
    "confRF = confusion_matrix_creator(gridRandomForest)\n",
    "sn.heatmap(confRF/np.sum(confRF), cmap = \"YlGnBu\", annot = True, annot_kws = {'size':15})"
   ]
  },
  {
   "cell_type": "markdown",
   "id": "67bfd900",
   "metadata": {},
   "source": [
    "### XGBOOST"
   ]
  },
  {
   "cell_type": "markdown",
   "id": "3aaae68f",
   "metadata": {},
   "source": [
    "Utilizziamo il modello creato ed addestrato sopra per poter ottenere i dati per il confronto con gli altri modelli."
   ]
  },
  {
   "cell_type": "code",
   "execution_count": 50,
   "id": "875a6008",
   "metadata": {},
   "outputs": [
    {
     "data": {
      "text/plain": [
       "<AxesSubplot:>"
      ]
     },
     "execution_count": 50,
     "metadata": {},
     "output_type": "execute_result"
    },
    {
     "data": {
      "image/png": "[encoded data removed]",
      "text/plain": [
       "<Figure size 432x288 with 2 Axes>"
      ]
     },
     "metadata": {
      "needs_background": "light"
     },
     "output_type": "display_data"
    }
   ],
   "source": [
    "confXG = confusion_matrix_creator(xgboostGrid)\n",
    "sn.heatmap(confXG/np.sum(confXG), cmap = \"YlGnBu\", annot = True, annot_kws = {'size':15})"
   ]
  },
  {
   "cell_type": "markdown",
   "id": "e0223d13",
   "metadata": {},
   "source": [
    "### SVM"
   ]
  },
  {
   "cell_type": "markdown",
   "id": "be8ffd87",
   "metadata": {},
   "source": [
    "Utilizziamo il modello creato ed addestrato sopra per poter ottenere i dati per il confronto con gli altri modelli."
   ]
  },
  {
   "cell_type": "code",
   "execution_count": 51,
   "id": "3e0b43c6",
   "metadata": {},
   "outputs": [
    {
     "data": {
      "text/plain": [
       "<AxesSubplot:>"
      ]
     },
     "execution_count": 51,
     "metadata": {},
     "output_type": "execute_result"
    },
    {
     "data": {
      "image/png": "[encoded data removed]",
      "text/plain": [
       "<Figure size 432x288 with 2 Axes>"
      ]
     },
     "metadata": {
      "needs_background": "light"
     },
     "output_type": "display_data"
    }
   ],
   "source": [
    "confSVM = confusion_matrix_creator(gridSVM)\n",
    "sn.heatmap(confSVM/np.sum(confSVM), cmap = \"YlGnBu\", annot = True, annot_kws = {'size':15})"
   ]
  },
  {
   "cell_type": "markdown",
   "id": "e1d1b189",
   "metadata": {},
   "source": [
    "## Confronto tra modelli"
   ]
  },
  {
   "cell_type": "markdown",
   "id": "cf0f6e04",
   "metadata": {},
   "source": [
    "Analizziamo i modelli creando un dataframe con precision, recall e f1-score di tutti."
   ]
  },
  {
   "cell_type": "code",
   "execution_count": 52,
   "id": "3cb9313c",
   "metadata": {},
   "outputs": [
    {
     "data": {
      "text/html": [
       "<div>\n",
       "<style scoped>\n",
       "    .dataframe tbody tr th:only-of-type {\n",
       "        vertical-align: middle;\n",
       "    }\n",
       "\n",
       "    .dataframe tbody tr th {\n",
       "        vertical-align: top;\n",
       "    }\n",
       "\n",
       "    .dataframe thead th {\n",
       "        text-align: right;\n",
       "    }\n",
       "</style>\n",
       "<table border=\"1\" class=\"dataframe\">\n",
       "  <thead>\n",
       "    <tr style=\"text-align: right;\">\n",
       "      <th></th>\n",
       "      <th>precision</th>\n",
       "      <th>recall</th>\n",
       "      <th>f1-score</th>\n",
       "    </tr>\n",
       "  </thead>\n",
       "  <tbody>\n",
       "    <tr>\n",
       "      <th>perceptron</th>\n",
       "      <td>0.953435</td>\n",
       "      <td>0.949088</td>\n",
       "      <td>0.951257</td>\n",
       "    </tr>\n",
       "    <tr>\n",
       "      <th>logreg</th>\n",
       "      <td>0.953927</td>\n",
       "      <td>0.959726</td>\n",
       "      <td>0.956818</td>\n",
       "    </tr>\n",
       "    <tr>\n",
       "      <th>randomForest</th>\n",
       "      <td>1.000000</td>\n",
       "      <td>1.000000</td>\n",
       "      <td>1.000000</td>\n",
       "    </tr>\n",
       "    <tr>\n",
       "      <th>XGBoost</th>\n",
       "      <td>1.000000</td>\n",
       "      <td>1.000000</td>\n",
       "      <td>1.000000</td>\n",
       "    </tr>\n",
       "    <tr>\n",
       "      <th>SVM</th>\n",
       "      <td>0.998452</td>\n",
       "      <td>0.980243</td>\n",
       "      <td>0.989264</td>\n",
       "    </tr>\n",
       "  </tbody>\n",
       "</table>\n",
       "</div>"
      ],
      "text/plain": [
       "              precision    recall  f1-score\n",
       "perceptron     0.953435  0.949088  0.951257\n",
       "logreg         0.953927  0.959726  0.956818\n",
       "randomForest   1.000000  1.000000  1.000000\n",
       "XGBoost        1.000000  1.000000  1.000000\n",
       "SVM            0.998452  0.980243  0.989264"
      ]
     },
     "execution_count": 52,
     "metadata": {},
     "output_type": "execute_result"
    }
   ],
   "source": [
    "data = [calcolate_precision_recall_f1(x) for x in [gridPerceptron, gridLogisticRegression, gridRandomForest, xgboostGrid, gridSVM]]\n",
    "pd.DataFrame(data, index=[\"perceptron\", \"logreg\", \"randomForest\", \"XGBoost\", \"SVM\"])"
   ]
  },
  {
   "cell_type": "markdown",
   "id": "f3e7ac56",
   "metadata": {},
   "source": [
    "Ora passimo allo studio dei modelli con gli intervalli di confidenza"
   ]
  },
  {
   "cell_type": "code",
   "execution_count": 53,
   "id": "95ac209c",
   "metadata": {},
   "outputs": [
    {
     "data": {
      "text/html": [
       "<div>\n",
       "<style scoped>\n",
       "    .dataframe tbody tr th:only-of-type {\n",
       "        vertical-align: middle;\n",
       "    }\n",
       "\n",
       "    .dataframe tbody tr th {\n",
       "        vertical-align: top;\n",
       "    }\n",
       "\n",
       "    .dataframe thead th {\n",
       "        text-align: right;\n",
       "    }\n",
       "</style>\n",
       "<table border=\"1\" class=\"dataframe\">\n",
       "  <thead>\n",
       "    <tr style=\"text-align: right;\">\n",
       "      <th></th>\n",
       "      <th>inf</th>\n",
       "      <th>sup</th>\n",
       "    </tr>\n",
       "  </thead>\n",
       "  <tbody>\n",
       "    <tr>\n",
       "      <th>perceptron</th>\n",
       "      <td>0.944078</td>\n",
       "      <td>0.960104</td>\n",
       "    </tr>\n",
       "    <tr>\n",
       "      <th>logreg</th>\n",
       "      <td>0.949668</td>\n",
       "      <td>0.964840</td>\n",
       "    </tr>\n",
       "    <tr>\n",
       "      <th>randomForest</th>\n",
       "      <td>0.998583</td>\n",
       "      <td>1.000000</td>\n",
       "    </tr>\n",
       "    <tr>\n",
       "      <th>XGBoost</th>\n",
       "      <td>0.998583</td>\n",
       "      <td>1.000000</td>\n",
       "    </tr>\n",
       "    <tr>\n",
       "      <th>SVM</th>\n",
       "      <td>0.985097</td>\n",
       "      <td>0.992837</td>\n",
       "    </tr>\n",
       "  </tbody>\n",
       "</table>\n",
       "</div>"
      ],
      "text/plain": [
       "                   inf       sup\n",
       "perceptron    0.944078  0.960104\n",
       "logreg        0.949668  0.964840\n",
       "randomForest  0.998583  1.000000\n",
       "XGBoost       0.998583  1.000000\n",
       "SVM           0.985097  0.992837"
      ]
     },
     "execution_count": 53,
     "metadata": {},
     "output_type": "execute_result"
    }
   ],
   "source": [
    "pd.DataFrame([confidence(calculate_accuracy(confPer), len(X_val), 1.96),\n",
    "              confidence(calculate_accuracy(confLog), len(X_val), 1.96),\n",
    "              confidence(calculate_accuracy(confRF), len(X_val), 1.96),\n",
    "             confidence(calculate_accuracy(confXG), len(X_val), 1.96),\n",
    "             confidence(calculate_accuracy(confSVM), len(X_val), 1.96)],\n",
    "                 index=[\"perceptron\", \"logreg\", \"randomForest\", \"XGBoost\", \"SVM\"], columns=[\"inf\", \"sup\"])"
   ]
  },
  {
   "cell_type": "code",
   "execution_count": null,
   "id": "63b38fc4",
   "metadata": {},
   "outputs": [],
   "source": []
  }
 ],
 "metadata": {
  "kernelspec": {
   "display_name": "Python 3 (ipykernel)",
   "language": "python",
   "name": "python3"
  },
  "language_info": {
   "codemirror_mode": {
    "name": "ipython",
    "version": 3
   },
   "file_extension": ".py",
   "mimetype": "text/x-python",
   "name": "python",
   "nbconvert_exporter": "python",
   "pygments_lexer": "ipython3",
   "version": "3.10.5"
  }
 },
 "nbformat": 4,
 "nbformat_minor": 5
}
